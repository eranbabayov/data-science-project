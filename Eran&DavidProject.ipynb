{
 "cells": [
  {
   "cell_type": "code",
   "execution_count": 229,
   "metadata": {},
   "outputs": [],
   "source": [
    "#ivory - 'https://www.ivory.co.il/%D7%98%D7%90%D7%91%D7%9C%D7%98%D7%99%D7%9D.html'\n",
    "#  zap - 'https://www.zap.co.il/models.aspx?sog=c-tabletpc'\n",
    "#  ksp - 'https://ksp.co.il/web/cat/270..1045'\n",
    "# bug - 'https://www.bug.co.il/tablets/'\n",
    "# מחסני חשמל- 'https://www.payngo.co.il/computers-pcs/smartphones/tablets.html?p=4'\n",
    "# wisebuy- 'https://www.wisebuy.co.il/products.aspx?category=c-tabletpc'\n",
    "#go mobile - 'https://www.gomobile.co.il/25137-%D7%98%D7%90%D7%91%D7%9C%D7%98%D7%99%D7%9D'\n",
    "from bs4 import BeautifulSoup\n",
    "import sqlite3\n",
    "import requests\n",
    "import pandas as pd\n",
    "from random import randint\n",
    "import time\n",
    "from time import sleep\n",
    "from typing import List\n",
    "import numpy as np\n",
    "import seaborn as sns\n",
    "import matplotlib.pyplot as plt\n",
    "from matplotlib import gridspec\n",
    "from sklearn.preprocessing import MinMaxScaler\n",
    "from sklearn import linear_model, metrics, preprocessing\n",
    "from sklearn.preprocessing import StandardScaler, MinMaxScaler, LabelEncoder\n",
    "from sklearn.linear_model import LogisticRegression, LinearRegression\n",
    "from sklearn.metrics import r2_score, f1_score"
   ]
  },
  {
   "cell_type": "code",
   "execution_count": 230,
   "metadata": {},
   "outputs": [],
   "source": [
    "def sleepms(milliseconds: int):\n",
    "    seconds = 0.001 * milliseconds\n",
    "    sleep(seconds)\n",
    "    \n",
    "def random_wait():\n",
    "    start = time.time()\n",
    "    sleepms(randint(1, 250))\n",
    "def getIvoryHeaders():\n",
    "    url='https://www.ivory.co.il/catalog.php?id=55718'\n",
    "    page = requests.get(url, headers = get_fake_user_agent())\n",
    "    soup= BeautifulSoup(page.content,'html.parser')\n",
    "    Header=['price']\n",
    "    product=soup.findAll('li',attrs={'class':'col-md-12 col-12'})\n",
    "    for prod in product:\n",
    "         Header.append(prod.find('div',style='vertical-align: middle; width:40%; display:inline-block; padding-top: 5px; padding-bottom: 5px;color: #000000;').text.strip())\n",
    "    return Header\n",
    "def get_fake_user_agent():\n",
    "    return {\"User-Agent\":\"PostmanRuntime/7.29.0\"}\n",
    "       \n",
    "def change_CSV_File_Headers(df):\n",
    "    df.rename(columns={\"מותג\": \"Brand\"}, inplace=True)\n",
    "    print('changed')\n",
    "    df.rename(columns={\"דגם\": \"Model\"}, inplace=True)\n",
    "    df.rename(columns={\"תצוגה\": \"Display\"}, inplace=True)\n",
    "    df.rename(columns={\"רזולוציית מסך\": \"Screen resolution\"}, inplace=True)\n",
    "    df.rename(columns={\"מעבד\": \"Processor\"}, inplace=True)\n",
    "    df.rename(columns={\"קישוריות\": \"connectivity\"}, inplace=True)\n",
    "    df.rename(columns={\"כ.רשת אלחוטי\": \"Wireless network card\"}, inplace=True)\n",
    "    df.rename(columns={\"נפח כולל (הסבר בתחתית העמוד)\": \"Total volume\"}, inplace=True)\n",
    "    df.rename(columns={\"זכרון RAM\": \"RAM Memory\"}, inplace=True)\n",
    "    df.rename(columns={\"חריץ הרחבת זכרון (כרטיס זכרון ניתן לרכישה בנפרד)\": \"Memory expansion slot\"}, inplace=True)\n",
    "    df.rename(columns={\"מצלמה קידמית\": \"Front camera\"}, inplace=True)\n",
    "    df.rename(columns={\"מצלמה אחורית\": \"Rear camera\"}, inplace=True)\n",
    "    df.rename(columns={\"מערכת הפעלה\": \"Operating system\"}, inplace=True)\n",
    "    df.rename(columns={\"חיבור טעינה והעברת נתונים\": \"Charging and data transfer connection\"}, inplace=True)\n",
    "    df.rename(columns={\"חיבור אוזניות\": \"Connecting headphones\"}, inplace=True)\n",
    "    df.rename(columns={\"צבע\": \"Color\"}, inplace=True)\n",
    "    df.rename(columns={\"משקל כ-\": \"Weight\"}, inplace=True)\n",
    "    df.rename(columns={\"שונות\": \"Miscellaneous\"}, inplace=True)\n",
    "    df.rename(columns={\"אחריות\": \"Warranty\"}, inplace=True)\n",
    "    df.to_csv(\"ivoryData.csv\",index=False)\n",
    "\n"
   ]
  },
  {
   "cell_type": "code",
   "execution_count": 232,
   "metadata": {},
   "outputs": [],
   "source": [
    "def getIvoryData(url,headers):\n",
    "    page=requests.get(url)\n",
    "    soup=BeautifulSoup(page.content,'html.parser')\n",
    "    product=soup.findAll('li',class_='col-md-12 col-12')\n",
    "    data={}\n",
    "    for prod in product:\n",
    "         temp=prod.find('b').text\n",
    "         valtemp=prod.find('div',style='vertical-align: middle; width:59%; display:inline-block; padding-top: 5px; padding-bottom: 5px; color: #000000;').text.strip()\n",
    "         if(temp in headers):\n",
    "            data.update({temp:valtemp})\n",
    "         else:\n",
    "            data[temp]=None\n",
    "    return data"
   ]
  },
  {
   "cell_type": "code",
   "execution_count": 237,
   "metadata": {},
   "outputs": [],
   "source": [
    "def all_ivory_files_to_csv():\n",
    "    url='https://www.ivory.co.il/catalog.php?act=cat&id=2592'\n",
    "    page = requests.get(url, headers = get_fake_user_agent())\n",
    "    soup= BeautifulSoup(page.content,'html.parser')\n",
    "    links=soup.find_all('a',class_='row product-anchor')\n",
    "    prices=soup.findAll(class_='price')\n",
    "    tabletPrice=[]\n",
    "    TabltPriceToCol=[]\n",
    "    for price in prices:\n",
    "        tabletPrice.append(price.text.strip())  \n",
    "    column=getIvoryHeaders()\n",
    "    data=[]\n",
    "    for link in links:\n",
    "        data.append(getIvoryData(link.get('href'),column))\n",
    "    df=pd.DataFrame(data,columns=column)\n",
    "    df['price']=tabletPrice\n",
    "    change_CSV_File_Headers(df)"
   ]
  }
 ],
 "metadata": {
  "kernelspec": {
   "display_name": "base",
   "language": "python",
   "name": "python3"
  },
  "language_info": {
   "codemirror_mode": {
    "name": "ipython",
    "version": 3
   },
   "file_extension": ".py",
   "mimetype": "text/x-python",
   "name": "python",
   "nbconvert_exporter": "python",
   "pygments_lexer": "ipython3",
   "version": "3.9.13"
  },
  "orig_nbformat": 4,
  "vscode": {
   "interpreter": {
    "hash": "54e3c8a93b7a154206d9e149f97cc6e32b2106e75a5669d06d26a2ee4612e962"
   }
  }
 },
 "nbformat": 4,
 "nbformat_minor": 2
}

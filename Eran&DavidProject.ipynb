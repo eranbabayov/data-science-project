{
 "cells": [
  {
   "cell_type": "code",
   "execution_count": 1,
   "metadata": {},
   "outputs": [],
   "source": [
    "import requests\n",
    "import bs4\n",
    "from bs4 import BeautifulSoup  \n",
    "import pandas as pd\n",
    "import scipy as sc\n",
    "import numpy as np\n",
    "temperature=[]\n",
    "url=\"https://www.israelweather.co.il/week_Archives.asp\"\n",
    "page=requests.get(url)\n",
    "soup = BeautifulSoup(page.content,'html.parser')\n",
    "lists=soup.find_all('div',class_='w3')\n",
    "for list in lists:\n",
    "    temperature=list.find_all('font',class_='w3')"
   ]
  },
  {
   "cell_type": "code",
   "execution_count": null,
   "metadata": {},
   "outputs": [],
   "source": []
  }
 ],
 "metadata": {
  "kernelspec": {
   "display_name": "base",
   "language": "python",
   "name": "python3"
  },
  "language_info": {
   "codemirror_mode": {
    "name": "ipython",
    "version": 3
   },
   "file_extension": ".py",
   "mimetype": "text/x-python",
   "name": "python",
   "nbconvert_exporter": "python",
   "pygments_lexer": "ipython3",
   "version": "3.9.13"
  },
  "orig_nbformat": 4,
  "vscode": {
   "interpreter": {
    "hash": "54e3c8a93b7a154206d9e149f97cc6e32b2106e75a5669d06d26a2ee4612e962"
   }
  }
 },
 "nbformat": 4,
 "nbformat_minor": 2
}

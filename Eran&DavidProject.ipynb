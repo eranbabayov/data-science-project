{
 "cells": [
  {
   "cell_type": "code",
   "execution_count": 49,
   "metadata": {},
   "outputs": [],
   "source": [
    "#ivory - 'https://www.ivory.co.il/%D7%98%D7%90%D7%91%D7%9C%D7%98%D7%99%D7%9D.html'\n",
    "#  zap - 'https://www.zap.co.il/models.aspx?sog=c-tabletpc'\n",
    "#  ksp - 'https://ksp.co.il/web/cat/270..1045'\n",
    "# bug - 'https://www.bug.co.il/tablets/'\n",
    "# מחסני חשמל- 'https://www.payngo.co.il/computers-pcs/smartphones/tablets.html?p=4'\n",
    "# wisebuy- 'https://www.wisebuy.co.il/products.aspx?category=c-tabletpc'\n",
    "#go mobile - 'https://www.gomobile.co.il/25137-%D7%98%D7%90%D7%91%D7%9C%D7%98%D7%99%D7%9D'\n",
    "from bs4 import BeautifulSoup\n",
    "import sqlite3\n",
    "import requests\n",
    "import pandas as pd\n",
    "from random import randint\n",
    "import time\n",
    "from time import sleep\n",
    "from typing import List\n",
    "import numpy as np\n",
    "import seaborn as sns\n",
    "import matplotlib.pyplot as plt\n",
    "from matplotlib import gridspec\n",
    "from sklearn.preprocessing import MinMaxScaler\n",
    "from sklearn import linear_model, metrics, preprocessing\n",
    "from sklearn.preprocessing import StandardScaler, MinMaxScaler, LabelEncoder\n",
    "from sklearn.linear_model import LogisticRegression, LinearRegression\n",
    "from sklearn.metrics import r2_score, f1_score"
   ]
  },
  {
   "cell_type": "code",
   "execution_count": 50,
   "metadata": {},
   "outputs": [],
   "source": [
    "def sleepms(milliseconds: int):\n",
    "    seconds = 0.001 * milliseconds\n",
    "    sleep(seconds)\n",
    "    \n",
    "def random_wait():\n",
    "    start = time.time()\n",
    "    sleepms(randint(1, 250))\n"
   ]
  },
  {
   "cell_type": "code",
   "execution_count": 51,
   "metadata": {},
   "outputs": [],
   "source": [
    "def getIvoryHeaders():\n",
    "    url='https://www.ivory.co.il/catalog.php?id=55718'\n",
    "    page=requests.get(url)\n",
    "    soup= BeautifulSoup(page.content,'html.parser')\n",
    "    col1=[]\n",
    "    product=soup.findAll('li',attrs={'class':'col-md-12 col-12'})\n",
    "    for prod in product:\n",
    "         col1.append(prod.find('div',style='vertical-align: middle; width:40%; display:inline-block; padding-top: 5px; padding-bottom: 5px;color: #000000;').text.strip())\n",
    "    return col1"
   ]
  },
  {
   "cell_type": "code",
   "execution_count": 52,
   "metadata": {},
   "outputs": [],
   "source": [
    "def getIvoryData(url):\n",
    "  page=requests.get(url)\n",
    "  soup= BeautifulSoup(page.content,'html.parser')\n",
    "  col1=[]\n",
    "  col2=[]\n",
    "  product=soup.findAll('li',attrs={'class':'col-md-12 col-12'})\n",
    "  for prod in product:\n",
    "    col2.append(prod.find('div',style='vertical-align: middle; width:59%; display:inline-block; padding-top: 5px; padding-bottom: 5px; color: #000000;').text.strip())\n",
    "  return col2"
   ]
  },
  {
   "cell_type": "code",
   "execution_count": 59,
   "metadata": {},
   "outputs": [
    {
     "name": "stdout",
     "output_type": "stream",
     "text": [
      "[]\n"
     ]
    }
   ],
   "source": [
    "url='https://www.ivory.co.il/catalog.php?act=cat&id=2592'\n",
    "page=requests.get(url)\n",
    "soup= BeautifulSoup(page.content,'html.parser')\n",
    "product=soup.findAll('div',_class='col-xl-2 col-md-4 col-sm-6 col-6 catalogVertical_item product-box-view category-item single-item-wrapper  category-list')\n",
    "links=[]\n",
    "for prod in product:\n",
    "    links.append(prod.find('a'),_class='row product-anchor linkInited')\n",
    "print(links)"
   ]
  },
  {
   "cell_type": "code",
   "execution_count": 158,
   "metadata": {},
   "outputs": [
    {
     "name": "stdout",
     "output_type": "stream",
     "text": [
      "0\n",
      "[<b>מותג</b>, <b>דגם</b>, <b>תצוגה</b>, <b>רזולוציית מסך</b>, <b>מעבד</b>, <b>קישוריות</b>, <b>כ.רשת אלחוטי</b>, <b>נפח כולל (הסבר בתחתית העמוד)</b>, <b>זכרון RAM</b>, <b>חריץ הרחבת זכרון (כרטיס זכרון ניתן לרכישה בנפרד)</b>, <b>מצלמה קידמית</b>, <b>מצלמה אחורית</b>, <b>מערכת הפעלה</b>, <b>חיבור טעינה והעברת נתונים</b>, <b>חיבור אוזניות</b>, <b>A-GPS</b>, <b>צבע</b>, <b>משקל כ-</b>, <b>שונות</b>, <b>אחריות</b>, [], [], [], [], [], [], [], [], [], [], [], [], [], [], [], [], None, None, [], [], []]\n"
     ]
    }
   ],
   "source": []
  },
  {
   "cell_type": "code",
   "execution_count": null,
   "metadata": {},
   "outputs": [],
   "source": []
  }
 ],
 "metadata": {
  "kernelspec": {
   "display_name": "base",
   "language": "python",
   "name": "python3"
  },
  "language_info": {
   "codemirror_mode": {
    "name": "ipython",
    "version": 3
   },
   "file_extension": ".py",
   "mimetype": "text/x-python",
   "name": "python",
   "nbconvert_exporter": "python",
   "pygments_lexer": "ipython3",
   "version": "3.9.13"
  },
  "orig_nbformat": 4,
  "vscode": {
   "interpreter": {
    "hash": "54e3c8a93b7a154206d9e149f97cc6e32b2106e75a5669d06d26a2ee4612e962"
   }
  }
 },
 "nbformat": 4,
 "nbformat_minor": 2
}

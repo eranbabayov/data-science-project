{
 "cells": [
  {
   "cell_type": "code",
   "execution_count": 49,
   "metadata": {},
   "outputs": [],
   "source": [
    "#ivory - 'https://www.ivory.co.il/%D7%98%D7%90%D7%91%D7%9C%D7%98%D7%99%D7%9D.html'\n",
    "#  zap - 'https://www.zap.co.il/models.aspx?sog=c-tabletpc'\n",
    "#  ksp - 'https://ksp.co.il/web/cat/270..1045'\n",
    "# bug - 'https://www.bug.co.il/tablets/'\n",
    "# מחסני חשמל- 'https://www.payngo.co.il/computers-pcs/smartphones/tablets.html?p=4'\n",
    "# wisebuy- 'https://www.wisebuy.co.il/products.aspx?category=c-tabletpc'\n",
    "#go mobile - 'https://www.gomobile.co.il/25137-%D7%98%D7%90%D7%91%D7%9C%D7%98%D7%99%D7%9D'\n",
    "from bs4 import BeautifulSoup\n",
    "import sqlite3\n",
    "import requests\n",
    "import pandas as pd\n",
    "from random import randint\n",
    "import time\n",
    "from time import sleep\n",
    "from typing import List\n",
    "import numpy as np\n",
    "import seaborn as sns\n",
    "import matplotlib.pyplot as plt\n",
    "from matplotlib import gridspec\n",
    "from sklearn.preprocessing import MinMaxScaler\n",
    "from sklearn import linear_model, metrics, preprocessing\n",
    "from sklearn.preprocessing import StandardScaler, MinMaxScaler, LabelEncoder\n",
    "from sklearn.linear_model import LogisticRegression, LinearRegression\n",
    "from sklearn.metrics import r2_score, f1_score"
   ]
  },
  {
   "cell_type": "code",
   "execution_count": 50,
   "metadata": {},
   "outputs": [],
   "source": [
    "def sleepms(milliseconds: int):\n",
    "    seconds = 0.001 * milliseconds\n",
    "    sleep(seconds)\n",
    "    \n",
    "def random_wait():\n",
    "    start = time.time()\n",
    "    sleepms(randint(1, 250))\n"
   ]
  },
  {
   "cell_type": "code",
   "execution_count": 51,
   "metadata": {},
   "outputs": [],
   "source": [
    "def getIvoryHeaders():\n",
    "    url='https://www.ivory.co.il/catalog.php?id=55718'\n",
    "    page=requests.get(url)\n",
    "    soup= BeautifulSoup(page.content,'html.parser')\n",
    "    Header=[]\n",
    "    product=soup.findAll('li',attrs={'class':'col-md-12 col-12'})\n",
    "    for prod in product:\n",
    "         Header.append(prod.find('div',style='vertical-align: middle; width:40%; display:inline-block; padding-top: 5px; padding-bottom: 5px;color: #000000;').text.strip())\n",
    "    return Header"
   ]
  },
  {
   "cell_type": "code",
   "execution_count": 52,
   "metadata": {},
   "outputs": [],
   "source": [
    "# def getIvoryData(url,_rowNum):\n",
    "#   page=requests.get(url)\n",
    "#   soup= BeautifulSoup(page.content,'html.parser')\n",
    "#   cols=[]\n",
    "#   val=[]\n",
    "#   product=soup.findAll('li',attrs={'class':'col-md-12 col-12'})\n",
    "#   for prod in product:\n",
    "#     cols.append(prod.find('b').get_text())\n",
    "#     val.append(prod.find('div',style='vertical-align: middle; width:59%; display:inline-block; padding-top: 5px; padding-bottom: 5px; color: #000000;').text.strip())\n",
    "#   df=pd.DataFrame(columns=cols,index=range(1))\n",
    "#   for value in range(len(cols)):\n",
    "#     df.iloc[_rowNum][value]=val[value]\n",
    "#   print(df)\n",
    "\n",
    "\n",
    "# def getIvoryData(url):\n",
    "#     page=requests.get(url)\n",
    "#     soup= BeautifulSoup(page.content,'html.parser')\n",
    "#     cols=[]\n",
    "#     val=[]\n",
    "#     product=soup.findAll('li',attrs={'class':'col-md-12 col-12'})\n",
    "#     for prod in product:\n",
    "#         cols.append(prod.find('b').get_text())\n",
    "#         val.append(prod.find('div',style='vertical-align: middle; width:59%; display:inline-block; padding-top: 5px; padding-bottom: 5px; color: #000000;').text.strip())\n",
    "# #        df=pd.DataFrame(columns=cols,index=range(1))\n",
    "# #    for value in range(len(cols)):\n",
    "# #        df.loc[_rowNum][value]=val[value]\n",
    "# #    newdf=pd.concat([olddf,df])\n",
    "#     return val\n",
    "\n",
    "\n",
    "def getIvoryData(url,headers):\n",
    "    page=requests.get(url)\n",
    "    soup=BeautifulSoup(page.content,'html.parser')\n",
    "    product=soup.findAll('li',class_='col-md-12 col-12')\n",
    "    pair=[]\n",
    "    data=[]\n",
    "    print(\"!!!!!!!!!!!!\")\n",
    "    print(headers)\n",
    "    for prod in product:\n",
    "        # print(prod.find('div',style='vertical-align: middle; width:59%; display:inline-block; padding-top: 5px; padding-bottom: 5px; color: #000000;').text.strip())\n",
    "         if(prod.find('b').text in headers):\n",
    "            data.append(prod.find('div',style='vertical-align: middle; width:59%; display:inline-block; padding-top: 5px; padding-bottom: 5px; color: #000000;').text.strip())\n",
    "         else:\n",
    "            data.append(None)\n",
    "    # print(\"4444444444444444444\")\n",
    "    print(data)"
   ]
  },
  {
   "cell_type": "code",
   "execution_count": 59,
   "metadata": {},
   "outputs": [
    {
     "name": "stdout",
     "output_type": "stream",
     "text": [
      "[]\n"
     ]
    }
   ],
   "source": [
    "# url='https://www.ivory.co.il/catalog.php?act=cat&id=2592'\n",
    "# page=requests.get(url)\n",
    "# soup= BeautifulSoup(page.content,'html.parser')\n",
    "# links=soup.find_all('a',class_='row product-anchor')\n",
    "# count=0\n",
    "# for link in links:   \n",
    "#       df=getIvoryData(link['href'],count)\n",
    "#       count+=1\n",
    "# getIvoryData(links[0]['href'],0)\n",
    "\n",
    "\n",
    "url='https://www.ivory.co.il/catalog.php?act=cat&id=2592'\n",
    "page=requests.get(url)\n",
    "soup= BeautifulSoup(page.content,'html.parser')\n",
    "links=soup.find_all('a',class_='row product-anchor')\n",
    "count=0\n",
    "# data=[]\n",
    "column=getIvoryHeaders()\n",
    "data=getIvoryData(links[2]['href'],column)\n",
    "# for link in links:   \n",
    "#     data.append(getIvoryData(link['href']))\n",
    "df=pd.DataFrame(data,columns=column)\n",
    "df.head()"
   ]
  },
  {
   "cell_type": "code",
   "execution_count": 158,
   "metadata": {},
   "outputs": [
    {
     "name": "stdout",
     "output_type": "stream",
     "text": [
      "0\n",
      "[<b>מותג</b>, <b>דגם</b>, <b>תצוגה</b>, <b>רזולוציית מסך</b>, <b>מעבד</b>, <b>קישוריות</b>, <b>כ.רשת אלחוטי</b>, <b>נפח כולל (הסבר בתחתית העמוד)</b>, <b>זכרון RAM</b>, <b>חריץ הרחבת זכרון (כרטיס זכרון ניתן לרכישה בנפרד)</b>, <b>מצלמה קידמית</b>, <b>מצלמה אחורית</b>, <b>מערכת הפעלה</b>, <b>חיבור טעינה והעברת נתונים</b>, <b>חיבור אוזניות</b>, <b>A-GPS</b>, <b>צבע</b>, <b>משקל כ-</b>, <b>שונות</b>, <b>אחריות</b>, [], [], [], [], [], [], [], [], [], [], [], [], [], [], [], [], None, None, [], [], []]\n"
     ]
    }
   ],
   "source": []
  },
  {
   "cell_type": "code",
   "execution_count": null,
   "metadata": {},
   "outputs": [],
   "source": []
  }
 ],
 "metadata": {
  "kernelspec": {
   "display_name": "base",
   "language": "python",
   "name": "python3"
  },
  "language_info": {
   "codemirror_mode": {
    "name": "ipython",
    "version": 3
   },
   "file_extension": ".py",
   "mimetype": "text/x-python",
   "name": "python",
   "nbconvert_exporter": "python",
   "pygments_lexer": "ipython3",
   "version": "3.9.13 (main, Aug 25 2022, 23:51:50) [MSC v.1916 64 bit (AMD64)]"
  },
  "orig_nbformat": 4,
  "vscode": {
   "interpreter": {
    "hash": "ad2bdc8ecc057115af97d19610ffacc2b4e99fae6737bb82f5d7fb13d2f2c186"
   }
  }
 },
 "nbformat": 4,
 "nbformat_minor": 2
}
